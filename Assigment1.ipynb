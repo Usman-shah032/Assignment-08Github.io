{
  "nbformat": 4,
  "nbformat_minor": 0,
  "metadata": {
    "colab": {
      "provenance": [],
      "authorship_tag": "ABX9TyM+OYSs151tL/rsEDw6yB3k",
      "include_colab_link": true
    },
    "kernelspec": {
      "name": "python3",
      "display_name": "Python 3"
    },
    "language_info": {
      "name": "python"
    }
  },
  "cells": [
    {
      "cell_type": "markdown",
      "metadata": {
        "id": "view-in-github",
        "colab_type": "text"
      },
      "source": [
        "<a href=\"https://colab.research.google.com/github/Usman-shah032/Assignment-08Github.io/blob/master/Assigment1.ipynb\" target=\"_parent\"><img src=\"https://colab.research.google.com/assets/colab-badge.svg\" alt=\"Open In Colab\"/></a>"
      ]
    },
    {
      "cell_type": "code",
      "execution_count": null,
      "metadata": {
        "colab": {
          "base_uri": "https://localhost:8080/"
        },
        "id": "5q5wcjg_cSaS",
        "outputId": "2207eb03-f9e3-45b7-beff-9238507f6268"
      },
      "outputs": [
        {
          "output_type": "stream",
          "name": "stdout",
          "text": [
            "Name:Usman ALi Shah\n",
            "Father's Name:Fayyaz Ali Shah\n",
            "Date of Birth:06-08-2002\n"
          ]
        }
      ],
      "source": [
        "print(\"Name:Usman ALi Shah\\nFather Name:Fayyaz Ali Shah\\nDate of Birth:06-08-2002\")"
      ]
    },
    {
      "cell_type": "code",
      "source": [
        "#Q:2\n",
        "print(\"====My Bio====\")\n",
        "print(\"Name:Usman Ali Shah\\nFather Name:Fayyaz Ali Shah\\nDate of Birth:06-08-2002\\nCountry:Pakistan\\nProfession:Data Engineer\\nHobby:Reading Books\")"
      ],
      "metadata": {
        "colab": {
          "base_uri": "https://localhost:8080/"
        },
        "id": "lI7Rza95fpdR",
        "outputId": "526e861e-b53b-4da8-f525-c41896134b9a"
      },
      "execution_count": null,
      "outputs": [
        {
          "output_type": "stream",
          "name": "stdout",
          "text": [
            "====My Bio====\n",
            "Name:Usman Ali Shah\n",
            "Father Name:Fayyaz Ali Shah\n",
            "Date of Birth:06-08-2002\n",
            "Country:Pakistan\n",
            "Profession:Data Engineer\n",
            "Hobby:Reading Books\n"
          ]
        }
      ]
    },
    {
      "cell_type": "code",
      "source": [
        "#Q:3\n",
        "a, b = 10, 3\n",
        "print(\"Arithmetic Operators:\")\n",
        "print(\"Addition:\",a + b)\n",
        "print(\"Subtraction:\",a - b)\n",
        "print(\"Multiplication:\", a * b)\n",
        "print(\"Division:\",a / b)\n",
        "print(\"Modulus:\", a % b)\n"
      ],
      "metadata": {
        "colab": {
          "base_uri": "https://localhost:8080/"
        },
        "id": "_ys5dAkni3HZ",
        "outputId": "e70c9899-1cc9-4b3e-ea7a-8784933d2b9b"
      },
      "execution_count": null,
      "outputs": [
        {
          "output_type": "stream",
          "name": "stdout",
          "text": [
            "Arithmetic Operators:\n",
            "Addition: 13\n",
            "Subtraction: 7\n",
            "Multiplication: 30\n",
            "Division: 3.3333333333333335\n",
            "Modulus: 1\n"
          ]
        }
      ]
    },
    {
      "cell_type": "code",
      "source": [
        "# Q:4\n",
        "# Assign marks of subjects\n",
        "english_marks = 85\n",
        "islamiat_marks = 90\n",
        "math_marks = 45\n",
        "# Assign total marks\n",
        "total_marks = 300\n",
        "# Calculate obtained Marks\n",
        "obtained_marks = english_marks + islamiat_marks + math_marks\n",
        "# Calculate percentage\n",
        "percentage = (Obtained_marks / total_marks) * 100\n",
        "# print result\n",
        "print(\"Marks in English:\",english_marks)\n",
        "print(\"Marks in Islamiat:\",islamiat_marks)\n",
        "print(\"Marks in Math:\",math_marks)\n",
        "print(\"Total Marks:\",total_marks)\n",
        "print(\"Obtained Marks:\", obtained_marks)\n",
        "print(\"Percentage:\",percentage,\"%\")\n"
      ],
      "metadata": {
        "colab": {
          "base_uri": "https://localhost:8080/"
        },
        "id": "XqJ178a0ldNA",
        "outputId": "046c3023-2b88-433b-bd7c-817176c42253"
      },
      "execution_count": null,
      "outputs": [
        {
          "output_type": "stream",
          "name": "stdout",
          "text": [
            "Marks in English: 85\n",
            "Marks in Islamiat: 90\n",
            "Marks in Math: 45\n",
            "Total Marks: 300\n",
            "Obtained Marks: 220\n",
            "Percentage: 73.33333333333333 %\n"
          ]
        }
      ]
    },
    {
      "cell_type": "code",
      "source": [
        "### Part 2\n",
        "# Q: 1\n",
        "# Asking user for input\n",
        "salary = float(input(\"Enter your salary: \"))  # Taking salary as input\n",
        "years_of_service = int(input(\"Enter your years of service: \"))  # Taking years of service as input\n",
        "\n",
        "# Checking if years of service are more than 5 years\n",
        "if years_of_service > 5:\n",
        "    bonus = salary * 0.05  # Calculating 5% bonus\n",
        "    print(\"Congratulations! You are eligible for a bonus.\")\n",
        "    print(\"Your bonus amount is:\", bonus)\n",
        "else:\n",
        "    print(\"Sorry, you are not eligible for a bonus.\")\n"
      ],
      "metadata": {
        "colab": {
          "base_uri": "https://localhost:8080/"
        },
        "id": "guD1KciKq_qr",
        "outputId": "651fa58c-0601-4add-e82e-2b139d7a1a76"
      },
      "execution_count": null,
      "outputs": [
        {
          "output_type": "stream",
          "name": "stdout",
          "text": [
            "Enter your salary: 150000\n",
            "Enter your years of service: 7\n",
            "Congratulations! You are eligible for a bonus.\n",
            "Your bonus amount is: 7500.0\n"
          ]
        }
      ]
    },
    {
      "cell_type": "code",
      "source": [
        "# Q:2\n",
        "# Taking age as input from the user\n",
        "age = int(input(\"Enter your age: \"))\n",
        "\n",
        "# Checking if age is greater than 17\n",
        "if age > 17:\n",
        "    print(\"You are eligible to vote.\")\n",
        "else:\n",
        "    print(\"You are not eligible to vote.\")\n"
      ],
      "metadata": {
        "colab": {
          "base_uri": "https://localhost:8080/"
        },
        "id": "Dxb-7jk9tf9f",
        "outputId": "cbe217fc-9811-432f-d429-db87100e1438"
      },
      "execution_count": null,
      "outputs": [
        {
          "output_type": "stream",
          "name": "stdout",
          "text": [
            "Enter your age: 22\n",
            "You are eligible to vote.\n"
          ]
        }
      ]
    },
    {
      "cell_type": "code",
      "source": [
        "# Q:3\n",
        "# Taking input from the user\n",
        "num = int(input(\"Enter a number: \"))\n",
        "\n",
        "# Checking if the number is even or odd\n",
        "if num % 2 == 0:\n",
        "    print(num, \"is an Even number.\")\n",
        "else:\n",
        "    print(num, \"is an Odd number.\")\n"
      ],
      "metadata": {
        "colab": {
          "base_uri": "https://localhost:8080/"
        },
        "id": "r-Ze8Y_0uOK1",
        "outputId": "5b33a222-495c-4193-9f0a-f6901e66378d"
      },
      "execution_count": null,
      "outputs": [
        {
          "output_type": "stream",
          "name": "stdout",
          "text": [
            "Enter a number: 7\n",
            "7 is an Odd number.\n"
          ]
        }
      ]
    },
    {
      "cell_type": "code",
      "source": [
        "# Q:4\n",
        "# Taking input from the user\n",
        "num = int(input(\"Enter a number: \"))\n",
        "\n",
        "# Checking if the number is divisible by 7\n",
        "if num % 7 == 0:\n",
        "    print(num, \"is divisible by 7.\")\n",
        "else:\n",
        "    print(num, \"is not divisible by 7.\")\n"
      ],
      "metadata": {
        "colab": {
          "base_uri": "https://localhost:8080/"
        },
        "id": "DVHzW5axuorx",
        "outputId": "31491493-1d67-4abd-efe0-7b3e791736b3"
      },
      "execution_count": null,
      "outputs": [
        {
          "output_type": "stream",
          "name": "stdout",
          "text": [
            "Enter a number: 8\n",
            "8 is not divisible by 7.\n"
          ]
        }
      ]
    },
    {
      "cell_type": "code",
      "source": [
        "# Q\"5\n",
        "# Taking input from the user\n",
        "num = int(input(\"Enter a number: \"))\n",
        "\n",
        "# Checking if the number is a multiple of 5\n",
        "if num % 5 == 0:\n",
        "    print(\"Hello\")\n",
        "else:\n",
        "    print(\"Bye\")\n"
      ],
      "metadata": {
        "colab": {
          "base_uri": "https://localhost:8080/"
        },
        "id": "JdSrVQ_wu_YK",
        "outputId": "07989f3f-b916-474c-d129-fef300b46435"
      },
      "execution_count": null,
      "outputs": [
        {
          "output_type": "stream",
          "name": "stdout",
          "text": [
            "Enter a number: 5\n",
            "Hello\n"
          ]
        }
      ]
    },
    {
      "cell_type": "code",
      "source": [
        "# Q:7\n",
        "# Taking input from the user\n",
        "num = int(input(\"Enter a number: \"))\n",
        "\n",
        "# Finding the last digit using modulus operator\n",
        "last_digit = num % 10\n",
        "\n",
        "# Displaying the last digit\n",
        "print(\"The last digit of\", num, \"is:\", last_digit)\n"
      ],
      "metadata": {
        "colab": {
          "base_uri": "https://localhost:8080/"
        },
        "id": "7xyAIz8gvVyn",
        "outputId": "2836cb47-c35c-4ecb-b1e3-3d5b27018c47"
      },
      "execution_count": null,
      "outputs": [
        {
          "output_type": "stream",
          "name": "stdout",
          "text": [
            "Enter a number: 98787879\n",
            "The last digit of 98787879 is: 9\n"
          ]
        }
      ]
    },
    {
      "cell_type": "code",
      "source": [
        "# Q:9\n",
        "# Taking input from the user\n",
        "length = float(input(\"Enter the length: \"))\n",
        "breadth = float(input(\"Enter the breadth: \"))\n",
        "\n",
        "# Checking if it's a square or a rectangle\n",
        "if length == breadth:\n",
        "    print(\"It is a Square.\")\n",
        "else:\n",
        "    print(\"It is a Rectangle.\")\n"
      ],
      "metadata": {
        "colab": {
          "base_uri": "https://localhost:8080/"
        },
        "id": "ney_Arohvo9p",
        "outputId": "d3241554-6442-406a-ea2f-2f55c6644e0b"
      },
      "execution_count": null,
      "outputs": [
        {
          "output_type": "stream",
          "name": "stdout",
          "text": [
            "Enter the length: 8\n",
            "Enter the breadth: 9\n",
            "It is a Rectangle.\n"
          ]
        }
      ]
    },
    {
      "cell_type": "code",
      "source": [
        "# Q:10\n",
        "# Taking two integer inputs from the user\n",
        "num1 = int(input(\"Enter the first number: \"))\n",
        "num2 = int(input(\"Enter the second number: \"))\n",
        "\n",
        "# Checking which number is greater\n",
        "if num1 > num2:\n",
        "    print(\"The greatest number is:\", num1)\n",
        "elif num2 > num1:\n",
        "    print(\"The greatest number is:\", num2)\n",
        "else:\n",
        "    print(\"Both numbers are equal.\")\n"
      ],
      "metadata": {
        "colab": {
          "base_uri": "https://localhost:8080/"
        },
        "id": "fba_6xPNv-X0",
        "outputId": "955652ab-efb0-462c-c10a-76899cdefef8"
      },
      "execution_count": null,
      "outputs": [
        {
          "output_type": "stream",
          "name": "stdout",
          "text": [
            "Enter the first number: 8\n",
            "Enter the second number: 6\n",
            "The greatest number is: 8\n"
          ]
        }
      ]
    },
    {
      "cell_type": "code",
      "source": [
        "# Q:11\n",
        "# Taking quantity as input from the user\n",
        "quantity = int(input(\"Enter the quantity of items: \"))\n",
        "\n",
        "# Defining cost per unit\n",
        "cost_per_unit = 100\n",
        "\n",
        "# Calculating total cost\n",
        "total_cost = quantity * cost_per_unit\n",
        "\n",
        "# Checking if discount applies\n",
        "if total_cost > 1000:\n",
        "    discount = total_cost * 0.10  # 10% discount\n",
        "    total_cost -= discount  # Subtracting discount from total cost\n",
        "    print(\"You got a 10% discount!\")\n",
        "else:\n",
        "    print(\"No discount applied.\")\n",
        "\n",
        "# Displaying the final total cost\n",
        "print(\"Total cost after discount (if applicable):\", total_cost)\n"
      ],
      "metadata": {
        "colab": {
          "base_uri": "https://localhost:8080/"
        },
        "id": "aiLQh_1uw8Ds",
        "outputId": "7c30377b-87a7-4df3-fcba-83f316f292bf"
      },
      "execution_count": null,
      "outputs": [
        {
          "output_type": "stream",
          "name": "stdout",
          "text": [
            "Enter the quantity of items: 10\n",
            "No discount applied.\n",
            "Total cost after discount (if applicable): 1000\n"
          ]
        }
      ]
    },
    {
      "cell_type": "code",
      "source": [
        "# Q:12\n",
        "# Taking marks as input from the user\n",
        "marks = int(input(\"Enter your marks: \"))\n",
        "\n",
        "# Checking the grade based on marks\n",
        "if marks < 25:\n",
        "    grade = \"F\"\n",
        "elif 25 <= marks < 45:\n",
        "    grade = \"E\"\n",
        "elif 45 <= marks < 50:\n",
        "    grade = \"D\"\n",
        "elif 50 <= marks < 60:\n",
        "    grade = \"C\"\n",
        "elif 60 <= marks < 80:\n",
        "    grade = \"B\"\n",
        "else:  # marks >= 80\n",
        "    grade = \"A\"\n",
        "\n",
        "# Printing the grade\n",
        "print(\"Your grade is:\", grade)\n"
      ],
      "metadata": {
        "colab": {
          "base_uri": "https://localhost:8080/"
        },
        "id": "1nSLoSpnx8Ci",
        "outputId": "2db2598a-9009-4d72-d274-f6ce6798fb3f"
      },
      "execution_count": null,
      "outputs": [
        {
          "output_type": "stream",
          "name": "stdout",
          "text": [
            "Enter your marks: 67\n",
            "Your grade is: B\n"
          ]
        }
      ]
    },
    {
      "cell_type": "code",
      "source": [
        "# Q:14\n",
        "# Taking input from the user\n",
        "classes_held = int(input(\"Enter the total number of classes held: \"))\n",
        "classes_attended = int(input(\"Enter the number of classes attended: \"))\n",
        "\n",
        "# Calculating attendance percentage\n",
        "attendance_percentage = (classes_attended / classes_held) * 100\n",
        "\n",
        "# Displaying attendance percentage\n",
        "print(\"Your attendance percentage is:\", attendance_percentage, \"%\")\n",
        "\n",
        "# Checking if the student is allowed to sit in the exam\n",
        "if attendance_percentage >= 75:\n",
        "    print(\"You are allowed to sit in the exam.\")\n",
        "else:\n",
        "    print(\"You are NOT allowed to sit in the exam.\")\n"
      ],
      "metadata": {
        "colab": {
          "base_uri": "https://localhost:8080/"
        },
        "id": "SixvHeeyz7QL",
        "outputId": "46aa2acf-47ed-4307-afe5-946e1335237e"
      },
      "execution_count": null,
      "outputs": [
        {
          "output_type": "stream",
          "name": "stdout",
          "text": [
            "Enter the total number of classes held: 150\n",
            "Enter the number of classes attended: 78\n",
            "Your attendance percentage is: 52.0 %\n",
            "You are NOT allowed to sit in the exam.\n"
          ]
        }
      ]
    },
    {
      "cell_type": "code",
      "source": [
        "# Q:15\n",
        "# Taking input from the user\n",
        "classes_held = int(input(\"Enter the total number of classes held: \"))\n",
        "classes_attended = int(input(\"Enter the number of classes attended: \"))\n",
        "\n",
        "# Calculating attendance percentage\n",
        "attendance_percentage = (classes_attended / classes_held) * 100\n",
        "\n",
        "# Displaying attendance percentage\n",
        "print(\"Your attendance percentage is:\", attendance_percentage, \"%\")\n",
        "\n",
        "# Checking if attendance is below 75%\n",
        "if attendance_percentage >= 75:\n",
        "    print(\"You are allowed to sit in the exam.\")\n",
        "else:\n",
        "    # Asking if the student has a medical cause\n",
        "    medical_cause = input(\"Do you have a medical cause? (Y/N): \").strip().upper()\n",
        "\n",
        "    if medical_cause == \"Y\":\n",
        "        print(\"You are allowed to sit in the exam due to medical cause.\")\n",
        "    else:\n",
        "        print(\"You are NOT allowed to sit in the exam.\")"
      ],
      "metadata": {
        "colab": {
          "base_uri": "https://localhost:8080/"
        },
        "id": "YFnLEEH_1nYa",
        "outputId": "a6285d8b-cba6-4572-8b48-cf749dde25bc"
      },
      "execution_count": null,
      "outputs": [
        {
          "output_type": "stream",
          "name": "stdout",
          "text": [
            "Enter the total number of classes held: 100\n",
            "Enter the number of classes attended: 60\n",
            "Your attendance percentage is: 60.0 %\n",
            "Do you have a medical cause? (Y/N): y\n",
            "You are allowed to sit in the exam due to medical cause.\n"
          ]
        }
      ]
    },
    {
      "cell_type": "code",
      "source": [
        "# Q:16\n",
        "# Taking input from the user\n",
        "year = int(input(\"Enter a year: \"))\n",
        "\n",
        "# Checking if the year is a leap year\n",
        "if (year % 4 == 0 and year % 100 != 0) or (year % 400 == 0):\n",
        "    print(year, \"is a Leap Year.\")\n",
        "else:\n",
        "    print(year, \"is NOT a Leap Year.\")"
      ],
      "metadata": {
        "colab": {
          "base_uri": "https://localhost:8080/"
        },
        "id": "dcFuVzgZ2CUv",
        "outputId": "211c9423-620a-473d-d0fc-65a79a3e264a"
      },
      "execution_count": null,
      "outputs": [
        {
          "output_type": "stream",
          "name": "stdout",
          "text": [
            "Enter a year: 2025\n",
            "2025 is NOT a Leap Year.\n"
          ]
        }
      ]
    },
    {
      "cell_type": "code",
      "source": [
        "# Q:17\n",
        "# Taking input from the user\n",
        "age = int(input(\"Enter your age: \"))\n",
        "gender = input(\"Enter your gender (M/F): \").strip().upper()\n",
        "marital_status = input(\"Are you married? (Y/N): \").strip().upper()\n",
        "\n",
        "# Checking the conditions for place of service\n",
        "if gender == \"F\":\n",
        "    print(\"You will work only in urban areas.\")\n",
        "elif gender == \"M\":\n",
        "    if 20 <= age <= 40:\n",
        "        print(\"You may work anywhere.\")\n",
        "    elif 40 < age <= 60:\n",
        "        print(\"You will work only in urban areas.\")\n",
        "    else:\n",
        "        print(\"ERROR: Invalid age entered.\")\n",
        "else:\n",
        "    print(\"ERROR: Invalid gender entered.\")\n"
      ],
      "metadata": {
        "colab": {
          "base_uri": "https://localhost:8080/"
        },
        "id": "9DceVqJL2mig",
        "outputId": "ad97c26e-6f9c-4d9c-c1d7-42de5e396cef"
      },
      "execution_count": null,
      "outputs": [
        {
          "output_type": "stream",
          "name": "stdout",
          "text": [
            "Enter your age: 22\n",
            "Enter your gender (M/F): m\n",
            "Are you married? (Y/N): n\n",
            "You may work anywhere.\n"
          ]
        }
      ]
    },
    {
      "cell_type": "code",
      "source": [
        "# Q:06\n",
        "# Taking input from the user\n",
        "units = int(input(\"Enter the number of units consumed: \"))\n",
        "\n",
        "# Calculating bill based on unit consumption\n",
        "if units <= 100:\n",
        "    bill = 0  # No charge for first 100 units\n",
        "elif units <= 300:\n",
        "    bill = (units - 100) * 5  # Rs 5 per unit for next 200 units\n",
        "else:\n",
        "    bill = (200 * 5) + ((units - 300) * 10)  # Rs 5 for next 200 units, Rs 10 after 300 units\n",
        "\n",
        "# Displaying the total bill amount\n",
        "print(\"Total electricity bill amount: Rs.\", bill)\n"
      ],
      "metadata": {
        "colab": {
          "base_uri": "https://localhost:8080/"
        },
        "id": "DYaHQeF13Kv3",
        "outputId": "39f53a5d-f64e-4a5f-b686-aa0ea68f99a0"
      },
      "execution_count": null,
      "outputs": [
        {
          "output_type": "stream",
          "name": "stdout",
          "text": [
            "Enter the number of units consumed: 100\n",
            "Total electricity bill amount: Rs. 0\n"
          ]
        }
      ]
    },
    {
      "cell_type": "code",
      "source": [
        "# Q:13\n",
        "# Taking age input from the user\n",
        "age1 = int(input(\"Enter the age of first person: \"))\n",
        "age2 = int(input(\"Enter the age of second person: \"))\n",
        "age3 = int(input(\"Enter the age of third person: \"))\n",
        "\n",
        "# Finding the oldest and youngest\n",
        "oldest = max(age1, age2, age3)\n",
        "youngest = min(age1, age2, age3)\n",
        "\n",
        "# Displaying results\n",
        "print(\"The oldest person is:\", oldest, \"years old.\")\n",
        "print(\"The youngest person is:\", youngest, \"years old.\")\n"
      ],
      "metadata": {
        "colab": {
          "base_uri": "https://localhost:8080/"
        },
        "id": "z4Wbqf3t3jXK",
        "outputId": "f93dd8ec-6f20-44f0-87ec-435b4a7e84ed"
      },
      "execution_count": null,
      "outputs": [
        {
          "output_type": "stream",
          "name": "stdout",
          "text": [
            "Enter the age of first person: 22\n",
            "Enter the age of second person: 7\n",
            "Enter the age of third person: 88\n",
            "The oldest person is: 88 years old.\n",
            "The youngest person is: 7 years old.\n"
          ]
        }
      ]
    }
  ]
}